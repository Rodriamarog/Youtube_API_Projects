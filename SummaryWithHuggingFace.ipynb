{
  "nbformat": 4,
  "nbformat_minor": 0,
  "metadata": {
    "colab": {
      "provenance": [],
      "include_colab_link": true
    },
    "kernelspec": {
      "name": "python3",
      "display_name": "Python 3"
    },
    "language_info": {
      "name": "python"
    }
  },
  "cells": [
    {
      "cell_type": "markdown",
      "metadata": {
        "id": "view-in-github",
        "colab_type": "text"
      },
      "source": [
        "<a href=\"https://colab.research.google.com/github/Rodriamarog/Youtube_API_Projects/blob/main/SummaryWithHuggingFace.ipynb\" target=\"_parent\"><img src=\"https://colab.research.google.com/assets/colab-badge.svg\" alt=\"Open In Colab\"/></a>"
      ]
    },
    {
      "cell_type": "code",
      "source": [
        "import youtube_transcript_api\n",
        "from transformers import pipeline\n",
        "import nltk\n",
        "\n",
        "# Download the punkt tokenizer for sentence splitting\n",
        "nltk.download('punkt')\n",
        "\n",
        "# Define the video ID\n",
        "video_id = 'x7X9w_GIm1s'\n",
        "\n",
        "# Get the English automated captions\n",
        "transcript = youtube_transcript_api.YouTubeTranscriptApi.get_transcript(video_id, languages=['en'])\n",
        "\n",
        "# Extract the transcript text\n",
        "transcript_text = ' '.join([line['text'] for line in transcript])\n",
        "\n",
        "# Split the transcript into sentences\n",
        "sentences = nltk.sent_tokenize(transcript_text)\n",
        "\n",
        "# Initialize the summarization pipeline\n",
        "summarizer = pipeline('summarization', model='sshleifer/distilbart-cnn-12-6')\n",
        "\n",
        "# Generate a summary for each sentence\n",
        "summaries = []\n",
        "for sentence in sentences:\n",
        "    input_text = '<s>' + sentence + '</s>'\n",
        "    summary = summarizer(input_text, max_length=300, min_length=10, do_sample=False)\n",
        "    summaries.append(summary[0]['summary_text'])\n",
        "\n",
        "# Print the final summary\n",
        "print('\\n'.join(summaries))\n",
        "\n",
        "# Print the full transcript\n",
        "print('\\n'.join(sentences))"
      ],
      "metadata": {
        "colab": {
          "base_uri": "https://localhost:8080/"
        },
        "id": "pumtMX95BYvO",
        "outputId": "994054bf-4c0b-43f0-b213-7b8487f1d9c5"
      },
      "execution_count": 21,
      "outputs": [
        {
          "output_type": "stream",
          "name": "stderr",
          "text": [
            "[nltk_data] Downloading package punkt to /root/nltk_data...\n",
            "[nltk_data]   Package punkt is already up-to-date!\n"
          ]
        },
        {
          "output_type": "stream",
          "name": "stdout",
          "text": [
            " Python is a high-level interpreted programming language famous for its zen-like code . It's commonly used to build server-side applications like web apps with the django framework and is the language of choice for big data analysis and machine learning .\n",
            "python a high-level interpreted programming language famous for its zen-like code it's arguably the most popular language in the world because it's easy to learn yet practical for serious projects in fact you're watching this youtube video in a python web application right now it was created by guido van rossum and released in 1991 who named it after monty python's flying circus which is why you'll sometimes find spam and eggs instead of foo and bar in code samples it's commonly used to build server-side applications like web apps with the django framework and is the language of choice for big data analysis and machine learning many students choose python to start learning to code because of its emphasis on readability as outlined by the zen of python beautiful is better than ugly while explicit is better than implicit python is very simple but avoids the temptation to sprinkle in magic that causes ambiguity its code is often organized into notebooks where individual cells can be executed then documented in the same place we're currently at version 3 of the language and you can get started by creating a file that ends in py or ipymb to create an interactive notebook create a variable by setting a name equal to a value it's strongly typed which means values won't change in unexpected ways but dynamic so type annotations are not required the syntax is highly efficient allowing you to declare multiple variables on a single line and define tuples lists and dictionaries with a literal syntax semicolons are not required and if you use them and experience pythonista will say that your code is not pythonic instead of semicolons python uses indentation to terminate or determine the scope of a line of code define a function with the def keyword then indent the next line usually by four spaces to define the function body we might then add a for loop to it and indent that by another four spaces this eliminates the need for curly braces and semicolons found in many other languages python is a multi-paradigm language we can apply functional programming patterns with things like anonymous functions using lambda it also uses objects as an abstraction for data allowing you to implement object-oriented patterns with things like classes and inheritance it also has a huge ecosystem of third-party libraries such as deep learning frameworks like tensorflow and wrappers for many high performance low level packages like open computer vision which are most often installed with the pip package manager this has been the python programming language in 100 seconds hit the like button if you want to see more short videos like this thanks for watching and i will see you in the next one\n"
          ]
        }
      ]
    }
  ]
}